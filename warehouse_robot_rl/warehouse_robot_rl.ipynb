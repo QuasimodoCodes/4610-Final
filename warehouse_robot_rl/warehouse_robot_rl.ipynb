{
  "cells": [
    {
      "cell_type": "markdown",
      "metadata": {},
      "source": [
        "# Warehouse Robot Navigation Using Q-Learning\n",
        "\n",
        "## Overview\n",
        "\n",
        "This notebook implements a reinforcement learning solution to the warehouse robot navigation problem using Q-learning. The robot must navigate from a loading bay to a target shelf on a slippery floor while avoiding hazards (holes).\n",
        "\n",
        "## Problem Statement\n",
        "\n",
        "We use the FrozenLake-v1 environment from Gymnasium, which models:\n",
        "\n",
        "- **Environment**: A slippery warehouse floor represented as a grid\n",
        "- **Agent**: A warehouse robot that can move in 4 directions (Left, Down, Right, Up)\n",
        "- **Goal**: Navigate from start (S) to goal (G) while avoiding holes (H)\n",
        "- **Challenge**: Stochastic transitions due to slippery surface (actions may slip)\n",
        "\n",
        "## Tasks\n",
        "\n",
        "1. Understanding the Environment\n",
        "2. Setting Up the Q-Learning Agent\n",
        "3. Training the Agent\n",
        "4. Evaluation & Comparison with Baselines\n",
        "5. Hyperparameter Optimization\n",
        "6. Testing on Larger Maps (8×8)\n"
      ]
    },
    {
      "cell_type": "markdown",
      "metadata": {},
      "source": [
        "## 1. Setup and Imports\n"
      ]
    },
    {
      "cell_type": "code",
      "execution_count": 2,
      "metadata": {},
      "outputs": [
        {
          "name": "stdout",
          "output_type": "stream",
          "text": [
            "All libraries imported successfully!\n",
            "Gymnasium version: 1.2.1\n",
            "NumPy version: 1.26.4\n"
          ]
        }
      ],
      "source": [
        "# Import required libraries\n",
        "import gymnasium as gym\n",
        "import numpy as np\n",
        "import matplotlib.pyplot as plt\n",
        "from collections import defaultdict\n",
        "import time\n",
        "\n",
        "# Set random seeds for reproducibility\n",
        "np.random.seed(42)\n",
        "\n",
        "print(\"All libraries imported successfully!\")\n",
        "print(f\"Gymnasium version: {gym.__version__}\")\n",
        "print(f\"NumPy version: {np.__version__}\")\n"
      ]
    }
  ],
  "metadata": {
    "kernelspec": {
      "display_name": "Python 3",
      "language": "python",
      "name": "python3"
    },
    "language_info": {
      "codemirror_mode": {
        "name": "ipython",
        "version": 3
      },
      "file_extension": ".py",
      "mimetype": "text/x-python",
      "name": "python",
      "nbconvert_exporter": "python",
      "pygments_lexer": "ipython3",
      "version": "3.12.6"
    }
  },
  "nbformat": 4,
  "nbformat_minor": 2
}
